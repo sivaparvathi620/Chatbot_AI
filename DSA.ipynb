{
  "nbformat": 4,
  "nbformat_minor": 0,
  "metadata": {
    "colab": {
      "provenance": [],
      "authorship_tag": "ABX9TyP7uOvnK28WY+UZRYXubnrR",
      "include_colab_link": true
    },
    "kernelspec": {
      "name": "python3",
      "display_name": "Python 3"
    },
    "language_info": {
      "name": "python"
    }
  },
  "cells": [
    {
      "cell_type": "markdown",
      "metadata": {
        "id": "view-in-github",
        "colab_type": "text"
      },
      "source": [
        "<a href=\"https://colab.research.google.com/github/sivaparvathi620/Chatbot_AI/blob/main/DSA.ipynb\" target=\"_parent\"><img src=\"https://colab.research.google.com/assets/colab-badge.svg\" alt=\"Open In Colab\"/></a>"
      ]
    },
    {
      "cell_type": "code",
      "execution_count": 6,
      "metadata": {
        "colab": {
          "base_uri": "https://localhost:8080/"
        },
        "id": "1Hu7j84sEmwl",
        "outputId": "463e97af-04cd-4c02-e29c-2e0e2c8f9c46"
      },
      "outputs": [
        {
          "output_type": "stream",
          "name": "stdout",
          "text": [
            "6\n"
          ]
        }
      ],
      "source": [
        "#LARGEST ELEMENT IN AN ARRAY\n",
        "\n",
        "\n",
        "arr=[3,3,6,1]\n",
        "largest=arr[0]\n",
        "for element in arr:\n",
        "  if element>largest:\n",
        "    largest=element\n",
        "    print(largest)"
      ]
    }
  ]
}